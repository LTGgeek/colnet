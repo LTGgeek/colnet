{
 "cells": [
  {
   "cell_type": "code",
   "execution_count": 1,
   "metadata": {},
   "outputs": [],
   "source": [
    "import torch\n",
    "BATCH_SIZE = 1\n",
    "h = "
   ]
  },
  {
   "cell_type": "markdown",
   "metadata": {},
   "source": [
    "Simulate tensor vector"
   ]
  },
  {
   "cell_type": "code",
   "execution_count": 2,
   "metadata": {},
   "outputs": [
    {
     "data": {
      "text/plain": [
       "tensor([[0.5253, 0.6931, 0.1487, 0.3172]])"
      ]
     },
     "execution_count": 2,
     "metadata": {},
     "output_type": "execute_result"
    }
   ],
   "source": [
    "x = torch.rand(BATCH_SIZE, 4)\n",
    "x"
   ]
  },
  {
   "cell_type": "code",
   "execution_count": 4,
   "metadata": {},
   "outputs": [
    {
     "data": {
      "text/plain": [
       "torch.Size([1, 4])"
      ]
     },
     "execution_count": 4,
     "metadata": {},
     "output_type": "execute_result"
    }
   ],
   "source": [
    "x.shape"
   ]
  },
  {
   "cell_type": "markdown",
   "metadata": {},
   "source": [
    "Stack vector to 2d"
   ]
  },
  {
   "cell_type": "code",
   "execution_count": 19,
   "metadata": {},
   "outputs": [
    {
     "data": {
      "text/plain": [
       "tensor([[[0.5253, 0.5253, 0.5253],\n",
       "         [0.6931, 0.6931, 0.6931],\n",
       "         [0.1487, 0.1487, 0.1487],\n",
       "         [0.3172, 0.3172, 0.3172]]])"
      ]
     },
     "execution_count": 19,
     "metadata": {},
     "output_type": "execute_result"
    }
   ],
   "source": [
    "y = torch.stack(tuple(x for _ in range(3)), 2)\n",
    "y"
   ]
  },
  {
   "cell_type": "code",
   "execution_count": 20,
   "metadata": {},
   "outputs": [
    {
     "data": {
      "text/plain": [
       "torch.Size([1, 4, 3])"
      ]
     },
     "execution_count": 20,
     "metadata": {},
     "output_type": "execute_result"
    }
   ],
   "source": [
    "y.shape"
   ]
  },
  {
   "cell_type": "markdown",
   "metadata": {},
   "source": [
    "Stack to 3d"
   ]
  },
  {
   "cell_type": "code",
   "execution_count": 29,
   "metadata": {},
   "outputs": [
    {
     "data": {
      "text/plain": [
       "tensor([[[[0.5253, 0.5253, 0.5253],\n",
       "          [0.6931, 0.6931, 0.6931],\n",
       "          [0.1487, 0.1487, 0.1487],\n",
       "          [0.3172, 0.3172, 0.3172]],\n",
       "\n",
       "         [[0.5253, 0.5253, 0.5253],\n",
       "          [0.6931, 0.6931, 0.6931],\n",
       "          [0.1487, 0.1487, 0.1487],\n",
       "          [0.3172, 0.3172, 0.3172]]]])"
      ]
     },
     "execution_count": 29,
     "metadata": {},
     "output_type": "execute_result"
    }
   ],
   "source": [
    "z = torch.stack((y, y), 1)\n",
    "z"
   ]
  },
  {
   "cell_type": "code",
   "execution_count": 30,
   "metadata": {},
   "outputs": [
    {
     "data": {
      "text/plain": [
       "torch.Size([1, 2, 4, 3])"
      ]
     },
     "execution_count": 30,
     "metadata": {},
     "output_type": "execute_result"
    }
   ],
   "source": [
    "z.shape"
   ]
  },
  {
   "cell_type": "markdown",
   "metadata": {},
   "source": [
    "Cat volumes"
   ]
  },
  {
   "cell_type": "code",
   "execution_count": 27,
   "metadata": {},
   "outputs": [
    {
     "data": {
      "text/plain": [
       "tensor([[[[ 0.5253,  0.5253,  0.5253],\n",
       "          [ 0.6931,  0.6931,  0.6931],\n",
       "          [ 0.1487,  0.1487,  0.1487],\n",
       "          [ 0.3172,  0.3172,  0.3172]],\n",
       "\n",
       "         [[-0.5253, -0.5253, -0.5253],\n",
       "          [-0.6931, -0.6931, -0.6931],\n",
       "          [-0.1487, -0.1487, -0.1487],\n",
       "          [-0.3172, -0.3172, -0.3172]]],\n",
       "\n",
       "\n",
       "        [[[ 0.5253,  0.5253,  0.5253],\n",
       "          [ 0.6931,  0.6931,  0.6931],\n",
       "          [ 0.1487,  0.1487,  0.1487],\n",
       "          [ 0.3172,  0.3172,  0.3172]],\n",
       "\n",
       "         [[-0.5253, -0.5253, -0.5253],\n",
       "          [-0.6931, -0.6931, -0.6931],\n",
       "          [-0.1487, -0.1487, -0.1487],\n",
       "          [-0.3172, -0.3172, -0.3172]]]])"
      ]
     },
     "execution_count": 27,
     "metadata": {},
     "output_type": "execute_result"
    }
   ],
   "source": [
    "u = torch.cat((z, -z), 1)\n",
    "u"
   ]
  },
  {
   "cell_type": "code",
   "execution_count": 28,
   "metadata": {},
   "outputs": [
    {
     "data": {
      "text/plain": [
       "torch.Size([2, 2, 4, 3])"
      ]
     },
     "execution_count": 28,
     "metadata": {},
     "output_type": "execute_result"
    }
   ],
   "source": [
    "u.shape"
   ]
  },
  {
   "cell_type": "code",
   "execution_count": null,
   "metadata": {},
   "outputs": [],
   "source": []
  }
 ],
 "metadata": {
  "kernelspec": {
   "display_name": "Python 3",
   "language": "python",
   "name": "python3"
  },
  "language_info": {
   "codemirror_mode": {
    "name": "ipython",
    "version": 3
   },
   "file_extension": ".py",
   "mimetype": "text/x-python",
   "name": "python",
   "nbconvert_exporter": "python",
   "pygments_lexer": "ipython3",
   "version": "3.6.7"
  }
 },
 "nbformat": 4,
 "nbformat_minor": 2
}
