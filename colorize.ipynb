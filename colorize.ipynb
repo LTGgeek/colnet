{
 "cells": [
  {
   "cell_type": "code",
   "execution_count": null,
   "metadata": {
    "collapsed": true
   },
   "outputs": [],
   "source": [
    "import os\n",
    "import torch\n",
    "import torchvision.transforms\n",
    "\n",
    "import matplotlib.pyplot as plt\n",
    "import numpy as np\n",
    "\n",
    "from skimage import io, color\n",
    "from src import colnet\n",
    "from src import dataset\n",
    "from src import utils"
   ]
  },
  {
   "cell_type": "code",
   "execution_count": null,
   "metadata": {
    "collapsed": true
   },
   "outputs": [],
   "source": [
    "model = './model/places10/colnet181211-23-40-45-19.pt'"
   ]
  },
  {
   "cell_type": "code",
   "execution_count": null,
   "metadata": {
    "collapsed": true
   },
   "outputs": [],
   "source": [
    "checkpoint = torch.load(model, map_location=torch.device(\"cpu\"))\n",
    "classes = checkpoint['classes']\n",
    "net_divisor = checkpoint['net_divisor']\n",
    "num_classes = len(classes)\n",
    "\n",
    "net = colnet.ColNet(num_classes=num_classes, net_divisor=net_divisor)\n",
    "net.load_state_dict(checkpoint['model_state_dict'])\n"
   ]
  },
  {
   "cell_type": "code",
   "execution_count": null,
   "metadata": {},
   "outputs": [],
   "source": [
    "img_path = 'shinjuku-gyoen-square-224.jpg'\n",
    "img_path = 'data/places10/test/japanese_garden/Places365_val_00007875.jpg'\n",
    "\n",
    "img = io.imread(img_path)\n",
    "io.imshow(img)\n",
    "io.show()"
   ]
  },
  {
   "cell_type": "code",
   "execution_count": null,
   "metadata": {
    "collapsed": true
   },
   "outputs": [],
   "source": [
    "composed_transforms = torchvision.transforms.Compose(\n",
    "            [dataset.HandleGrayscale(), \n",
    "             dataset.RandomCrop(224),\n",
    "             dataset.Rgb2LabNorm(), \n",
    "             dataset.ToTensor(), \n",
    "             dataset.SplitLab()]\n",
    "        )"
   ]
  },
  {
   "cell_type": "code",
   "execution_count": null,
   "metadata": {
    "collapsed": true
   },
   "outputs": [],
   "source": [
    "L, ab = composed_transforms(img)\n",
    "L_tensor = torch.from_numpy(np.expand_dims(L, axis=0))"
   ]
  },
  {
   "cell_type": "code",
   "execution_count": null,
   "metadata": {},
   "outputs": [],
   "source": [
    "img_name = os.path.basename(img_path)\n",
    "img_name"
   ]
  },
  {
   "cell_type": "code",
   "execution_count": null,
   "metadata": {},
   "outputs": [],
   "source": [
    "classes"
   ]
  },
  {
   "cell_type": "code",
   "execution_count": null,
   "metadata": {},
   "outputs": [],
   "source": [
    "softmax = torch.nn.Softmax(dim=1)\n",
    "net.eval()\n",
    "with torch.no_grad():\n",
    "    ab_out, predicted = net(L_tensor)\n",
    "    img_colorized = utils.net_out2rgb(L, ab_out[0])\n",
    "    \n",
    "    colorized_img_name = \"colorized-\" + img_name\n",
    "    io.imsave(colorized_img_name, img_colorized)\n",
    "    io.imshow(img_colorized)\n",
    "    io.show()\n",
    "\n",
    "    print(\"Saved image to: {}\\n\".format(colorized_img_name))\n",
    "    \n",
    "    \n",
    "    sm = softmax(predicted)\n",
    "    probs = sm[0].numpy()\n",
    "    print (probs)\n",
    "    \n",
    "    probs_and_classes = sorted(zip(probs, classes), key=lambda x: x[0], reverse=True)\n",
    "\n",
    "    \n",
    "    print(\"Predicted labels: \\n\")\n",
    "    for p, c in probs_and_classes[:10]:\n",
    "        print(\"{:>7.2f}% \\t{}\".format(p*100.0, c))"
   ]
  },
  {
   "cell_type": "code",
   "execution_count": null,
   "metadata": {
    "collapsed": true
   },
   "outputs": [],
   "source": []
  }
 ],
 "metadata": {
  "kernelspec": {
   "display_name": "Python 3",
   "language": "python",
   "name": "python3"
  },
  "language_info": {
   "codemirror_mode": {
    "name": "ipython",
    "version": 3
   },
   "file_extension": ".py",
   "mimetype": "text/x-python",
   "name": "python",
   "nbconvert_exporter": "python",
   "pygments_lexer": "ipython3",
   "version": "3.6.3"
  }
 },
 "nbformat": 4,
 "nbformat_minor": 2
}
