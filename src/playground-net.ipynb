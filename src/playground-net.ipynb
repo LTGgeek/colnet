{
 "cells": [
  {
   "cell_type": "code",
   "execution_count": 1,
   "metadata": {},
   "outputs": [
    {
     "name": "stdout",
     "output_type": "stream",
     "text": [
      "---\r\n",
      "epochs: 10\r\n",
      "batch_size: 8\r\n",
      "net_size: 8\r\n",
      "img_dir_train: ../data/food41-structured/train/\r\n",
      "img_dir_val: ../data/food41-structured/val/\r\n",
      "img_dir_test: ../data/food41-structured/train/\r\n",
      "model_checkpoint: ../model/colnet181123-20-54-37-4.pt"
     ]
    }
   ],
   "source": [
    "from loader import load_config\n",
    "import matplotlib.pyplot as plt\n",
    "\n",
    "\n",
    "config = '../config/food-structured.yaml'\n",
    "!cat ../config/food-structured.yaml"
   ]
  },
  {
   "cell_type": "code",
   "execution_count": 2,
   "metadata": {},
   "outputs": [
    {
     "name": "stdout",
     "output_type": "stream",
     "text": [
      "Resuming training of: ../model/colnet181123-20-54-37-4.pt\n",
      "[WARNING] all2mem temporarily disabled\n",
      "[WARNING] all2mem temporarily disabled\n",
      "Using cpu\n",
      "\n",
      "--------------------------------\n",
      "Epoch 6 / 10\n",
      "--------------------------------\n",
      "[ 1 / 13] batch loss:   9947.844\n",
      "[ 2 / 13] batch loss:   8618.888\n",
      "[ 3 / 13] batch loss:   6491.077\n",
      "[ 4 / 13] batch loss:  10034.954\n",
      "[ 5 / 13] batch loss:   6932.212\n",
      "[ 6 / 13] batch loss:   7543.581\n",
      "[ 7 / 13] batch loss:   9566.220\n",
      "[ 8 / 13] batch loss:  11097.632\n",
      "[ 9 / 13] batch loss:  10398.150\n",
      "[10 / 13] batch loss:   9757.041\n",
      "[11 / 13] batch loss:  10208.379\n",
      "[12 / 13] batch loss:   8940.041\n",
      "[13 / 13] batch loss:   3666.823\n",
      "\n",
      "Validating...\n",
      "[ 1 / 3] dev batch loss:  12323.855\n",
      "[ 2 / 3] dev batch loss:   8749.372\n",
      "[ 3 / 3] dev batch loss:   3397.249\n",
      "Dev loss 8156.826\n",
      "\n",
      "saved model to ../model/colnet181123-21-15-15-5.pt\n",
      "\n",
      "--------------------------------\n",
      "Epoch 7 / 10\n",
      "--------------------------------\n",
      "[ 1 / 13] batch loss:   9186.123\n",
      "[ 2 / 13] batch loss:   9178.713\n",
      "[ 3 / 13] batch loss:   9241.395\n",
      "[ 4 / 13] batch loss:   5657.369\n",
      "[ 5 / 13] batch loss:   6698.222\n",
      "[ 6 / 13] batch loss:   8639.042\n",
      "[ 7 / 13] batch loss:   6781.271\n",
      "[ 8 / 13] batch loss:   6404.016\n",
      "[ 9 / 13] batch loss:   6649.196\n",
      "[10 / 13] batch loss:   6811.809\n",
      "[11 / 13] batch loss:   6351.225\n",
      "[12 / 13] batch loss:   8170.879\n",
      "[13 / 13] batch loss:   2528.798\n",
      "\n",
      "Validating...\n",
      "[ 1 / 3] dev batch loss:   8945.720\n",
      "[ 2 / 3] dev batch loss:   6127.466\n",
      "[ 3 / 3] dev batch loss:   2953.851\n",
      "Dev loss 6009.012\n",
      "\n",
      "saved model to ../model/colnet181123-21-15-20-6.pt\n",
      "\n",
      "--------------------------------\n",
      "Epoch 8 / 10\n",
      "--------------------------------\n",
      "[ 1 / 13] batch loss:   8599.593\n",
      "[ 2 / 13] batch loss:   6921.369\n",
      "[ 3 / 13] batch loss:   7446.703\n",
      "[ 4 / 13] batch loss:   5814.160\n",
      "[ 5 / 13] batch loss:   4552.530\n",
      "[ 6 / 13] batch loss:   5814.972\n",
      "[ 7 / 13] batch loss:   4175.809\n",
      "[ 8 / 13] batch loss:   5523.243\n",
      "[ 9 / 13] batch loss:   4196.459\n",
      "[10 / 13] batch loss:   6368.070\n",
      "[11 / 13] batch loss:   4667.302\n",
      "[12 / 13] batch loss:   4709.554\n",
      "[13 / 13] batch loss:   1636.685\n",
      "\n",
      "Validating...\n",
      "[ 1 / 3] dev batch loss:   6039.073\n",
      "[ 2 / 3] dev batch loss:   3972.259\n",
      "[ 3 / 3] dev batch loss:   2852.293\n",
      "Dev loss 4287.875\n",
      "\n",
      "saved model to ../model/colnet181123-21-15-26-7.pt\n",
      "\n",
      "--------------------------------\n",
      "Epoch 9 / 10\n",
      "--------------------------------\n",
      "[ 1 / 13] batch loss:   4930.266\n",
      "[ 2 / 13] batch loss:   4984.759\n",
      "[ 3 / 13] batch loss:   3904.648\n",
      "[ 4 / 13] batch loss:   4120.597\n",
      "[ 5 / 13] batch loss:   5207.792\n",
      "[ 6 / 13] batch loss:   5773.582\n",
      "[ 7 / 13] batch loss:   3298.441\n",
      "[ 8 / 13] batch loss:   5363.517\n",
      "[ 9 / 13] batch loss:   4459.248\n",
      "[10 / 13] batch loss:   4536.110\n",
      "[11 / 13] batch loss:   5201.896\n",
      "[12 / 13] batch loss:   5482.783\n",
      "[13 / 13] batch loss:   1869.962\n",
      "\n",
      "Validating...\n",
      "[ 1 / 3] dev batch loss:   6022.329\n",
      "[ 2 / 3] dev batch loss:   3721.117\n",
      "[ 3 / 3] dev batch loss:   2681.745\n",
      "Dev loss 4141.730\n",
      "\n",
      "saved model to ../model/colnet181123-21-15-31-8.pt\n",
      "\n",
      "--------------------------------\n",
      "Epoch 10 / 10\n",
      "--------------------------------\n",
      "[ 1 / 13] batch loss:   3916.976\n",
      "[ 2 / 13] batch loss:   5558.179\n",
      "[ 3 / 13] batch loss:   4132.643\n",
      "[ 4 / 13] batch loss:   4214.214\n",
      "[ 5 / 13] batch loss:   4273.058\n",
      "[ 6 / 13] batch loss:   5849.512\n",
      "[ 7 / 13] batch loss:   4341.354\n",
      "[ 8 / 13] batch loss:   4489.874\n",
      "[ 9 / 13] batch loss:   4319.400\n",
      "[10 / 13] batch loss:   5496.219\n",
      "[11 / 13] batch loss:   4304.962\n",
      "[12 / 13] batch loss:   3820.882\n",
      "[13 / 13] batch loss:   2733.149\n",
      "\n",
      "Validating...\n",
      "[ 1 / 3] dev batch loss:   5964.934\n",
      "[ 2 / 3] dev batch loss:   3687.635\n",
      "[ 3 / 3] dev batch loss:   2687.273\n",
      "Dev loss 4113.281\n",
      "\n",
      "saved model to ../model/colnet181123-21-15-36-9.pt\n",
      "\n",
      "\n",
      "Finished Training.\n"
     ]
    }
   ],
   "source": [
    "t = load_config(config)\n",
    "\n",
    "t.run()"
   ]
  },
  {
   "cell_type": "code",
   "execution_count": 3,
   "metadata": {},
   "outputs": [
    {
     "data": {
      "text/plain": [
       "<matplotlib.legend.Legend at 0x7f159526e3c8>"
      ]
     },
     "execution_count": 3,
     "metadata": {},
     "output_type": "execute_result"
    },
    {
     "data": {
      "image/png": "[encoded data removed]",
      "text/plain": [
       "<Figure size 432x288 with 1 Axes>"
      ]
     },
     "metadata": {
      "needs_background": "light"
     },
     "output_type": "display_data"
    }
   ],
   "source": [
    "plt.plot(t.loss_history['train'], label='train')\n",
    "plt.plot(t.loss_history['val'], label='validate')\n",
    "plt.legend()"
   ]
  },
  {
   "cell_type": "code",
   "execution_count": null,
   "metadata": {},
   "outputs": [],
   "source": []
  }
 ],
 "metadata": {
  "kernelspec": {
   "display_name": "Python 3",
   "language": "python",
   "name": "python3"
  },
  "language_info": {
   "codemirror_mode": {
    "name": "ipython",
    "version": 3
   },
   "file_extension": ".py",
   "mimetype": "text/x-python",
   "name": "python",
   "nbconvert_exporter": "python",
   "pygments_lexer": "ipython3",
   "version": "3.6.7"
  }
 },
 "nbformat": 4,
 "nbformat_minor": 2
}
