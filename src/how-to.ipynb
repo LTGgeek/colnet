{
 "cells": [
  {
   "cell_type": "markdown",
   "metadata": {},
   "source": [
    "First, import following modules:"
   ]
  },
  {
   "cell_type": "code",
   "execution_count": 2,
   "metadata": {},
   "outputs": [],
   "source": [
    "from loader import load_config"
   ]
  },
  {
   "cell_type": "markdown",
   "metadata": {},
   "source": [
    "Create sample configuration file `../config/config0.yaml`:\n",
    "```yml\n",
    "---\n",
    "epochs: 5\n",
    "batch_size: 8\n",
    "net_size: 16\n",
    "img_dir_train: ../data/food41-120-train/\n",
    "img_dir_val: ../data/food41-120-test/\n",
    "img_dir_test: ../data/food41-120-test/`\n",
    "```"
   ]
  },
  {
   "cell_type": "markdown",
   "metadata": {},
   "source": [
    "Load a training environment based on a configuration."
   ]
  },
  {
   "cell_type": "code",
   "execution_count": 3,
   "metadata": {},
   "outputs": [],
   "source": [
    "train = load_config('../config/config0.yaml')"
   ]
  },
  {
   "cell_type": "markdown",
   "metadata": {},
   "source": [
    "Run both training and validaion:"
   ]
  },
  {
   "cell_type": "code",
   "execution_count": 4,
   "metadata": {},
   "outputs": [
    {
     "name": "stdout",
     "output_type": "stream",
     "text": [
      "Epoch 1 / 5\n",
      "[1 / 13] batch loss: 8430.372\n",
      "[2 / 13] batch loss: 8693.146\n",
      "[3 / 13] batch loss: 14395.163\n",
      "[4 / 13] batch loss: 9733.850\n",
      "[5 / 13] batch loss: 8077.306\n",
      "[6 / 13] batch loss: 8944.196\n",
      "[7 / 13] batch loss: 10121.736\n",
      "[8 / 13] batch loss: 7285.581\n",
      "[9 / 13] batch loss: 9589.832\n",
      "[10 / 13] batch loss: 9999.585\n",
      "[11 / 13] batch loss: 8204.451\n",
      "[12 / 13] batch loss: 6977.799\n",
      "[13 / 13] batch loss: 3650.278\n",
      "\n",
      "Validating...\n",
      "[1 / 3] dev batch loss: 7825.85498046875\n",
      "[2 / 3] dev batch loss: 7748.583984375\n",
      "[3 / 3] dev batch loss: 3812.216552734375\n",
      "sum of dev losses 19386.65625\n",
      "mean of dev losses 6462.21875\n",
      "\n",
      "saved model to ../model/colnet181117-12-13-26-0.pt\n",
      "Epoch 2 / 5\n"
     ]
    },
    {
     "name": "stderr",
     "output_type": "stream",
     "text": [
      "Process Process-12:\n",
      "Process Process-11:\n",
      "Process Process-9:\n",
      "Process Process-10:\n",
      "Traceback (most recent call last):\n",
      "Traceback (most recent call last):\n",
      "Traceback (most recent call last):\n",
      "  File \"/usr/lib/python3.6/multiprocessing/process.py\", line 258, in _bootstrap\n",
      "    self.run()\n",
      "  File \"/usr/lib/python3.6/multiprocessing/process.py\", line 93, in run\n",
      "    self._target(*self._args, **self._kwargs)\n",
      "  File \"/usr/lib/python3.6/multiprocessing/process.py\", line 258, in _bootstrap\n",
      "    self.run()\n",
      "  File \"/home/przezmek/.local/lib/python3.6/site-packages/torch/utils/data/dataloader.py\", line 96, in _worker_loop\n",
      "    r = index_queue.get(timeout=MANAGER_STATUS_CHECK_INTERVAL)\n",
      "  File \"/usr/lib/python3.6/multiprocessing/process.py\", line 93, in run\n",
      "    self._target(*self._args, **self._kwargs)\n",
      "  File \"/home/przezmek/.local/lib/python3.6/site-packages/torch/utils/data/dataloader.py\", line 106, in _worker_loop\n",
      "    samples = collate_fn([dataset[i] for i in batch_indices])\n",
      "  File \"/usr/lib/python3.6/multiprocessing/process.py\", line 258, in _bootstrap\n",
      "    self.run()\n",
      "  File \"/usr/lib/python3.6/multiprocessing/queues.py\", line 104, in get\n",
      "    if not self._poll(timeout):\n",
      "Traceback (most recent call last):\n",
      "  File \"/usr/lib/python3.6/multiprocessing/process.py\", line 93, in run\n",
      "    self._target(*self._args, **self._kwargs)\n",
      "  File \"/usr/lib/python3.6/multiprocessing/connection.py\", line 257, in poll\n",
      "    return self._poll(timeout)\n",
      "  File \"/usr/lib/python3.6/multiprocessing/connection.py\", line 414, in _poll\n",
      "    r = wait([self], timeout)\n",
      "  File \"/home/przezmek/.local/lib/python3.6/site-packages/torch/utils/data/dataloader.py\", line 106, in <listcomp>\n",
      "    samples = collate_fn([dataset[i] for i in batch_indices])\n",
      "  File \"/home/przezmek/.local/lib/python3.6/site-packages/torch/utils/data/dataloader.py\", line 96, in _worker_loop\n",
      "    r = index_queue.get(timeout=MANAGER_STATUS_CHECK_INTERVAL)\n",
      "  File \"/usr/lib/python3.6/multiprocessing/process.py\", line 258, in _bootstrap\n",
      "    self.run()\n",
      "  File \"/usr/lib/python3.6/multiprocessing/queues.py\", line 104, in get\n",
      "    if not self._poll(timeout):\n",
      "  File \"/home/przezmek/Documents/colnet/src/dataset.py\", line 60, in __getitem__\n",
      "    img_lab = color.rgb2lab(image)\n",
      "  File \"/home/przezmek/.local/lib/python3.6/site-packages/skimage/color/colorconv.py\", line 1043, in rgb2lab\n",
      "    return xyz2lab(rgb2xyz(rgb), illuminant, observer)\n",
      "  File \"/usr/lib/python3.6/multiprocessing/process.py\", line 93, in run\n",
      "    self._target(*self._args, **self._kwargs)\n",
      "  File \"/home/przezmek/.local/lib/python3.6/site-packages/skimage/color/colorconv.py\", line 688, in rgb2xyz\n",
      "    arr[mask] = np.power((arr[mask] + 0.055) / 1.055, 2.4)\n"
     ]
    },
    {
     "name": "stdout",
     "output_type": "stream",
     "text": [
      "[1 / 13] batch loss: 13372.604\n"
     ]
    },
    {
     "name": "stderr",
     "output_type": "stream",
     "text": [
      "KeyboardInterrupt\n",
      "  File \"/usr/lib/python3.6/multiprocessing/connection.py\", line 257, in poll\n",
      "    return self._poll(timeout)\n",
      "  File \"/usr/lib/python3.6/multiprocessing/connection.py\", line 414, in _poll\n",
      "    r = wait([self], timeout)\n",
      "  File \"/usr/lib/python3.6/multiprocessing/connection.py\", line 911, in wait\n",
      "    ready = selector.select(timeout)\n",
      "  File \"/home/przezmek/.local/lib/python3.6/site-packages/torch/utils/data/dataloader.py\", line 106, in _worker_loop\n",
      "    samples = collate_fn([dataset[i] for i in batch_indices])\n",
      "  File \"/home/przezmek/.local/lib/python3.6/site-packages/torch/utils/data/dataloader.py\", line 106, in <listcomp>\n",
      "    samples = collate_fn([dataset[i] for i in batch_indices])\n",
      "  File \"/usr/lib/python3.6/multiprocessing/connection.py\", line 911, in wait\n",
      "    ready = selector.select(timeout)\n",
      "  File \"/usr/lib/python3.6/selectors.py\", line 376, in select\n",
      "    fd_event_list = self._poll.poll(timeout)\n",
      "  File \"/usr/lib/python3.6/selectors.py\", line 376, in select\n",
      "    fd_event_list = self._poll.poll(timeout)\n",
      "KeyboardInterrupt\n",
      "  File \"/home/przezmek/Documents/colnet/src/dataset.py\", line 60, in __getitem__\n",
      "    img_lab = color.rgb2lab(image)\n",
      "KeyboardInterrupt\n",
      "  File \"/home/przezmek/.local/lib/python3.6/site-packages/skimage/color/colorconv.py\", line 1043, in rgb2lab\n",
      "    return xyz2lab(rgb2xyz(rgb), illuminant, observer)\n",
      "  File \"/home/przezmek/.local/lib/python3.6/site-packages/skimage/color/colorconv.py\", line 690, in rgb2xyz\n",
      "    return _convert(xyz_from_rgb, arr)\n",
      "  File \"/home/przezmek/.local/lib/python3.6/site-packages/skimage/color/colorconv.py\", line 600, in _convert\n",
      "    return np.dot(arr, matrix.T.copy())\n",
      "KeyboardInterrupt\n",
      "Exception ignored in: <bound method _DataLoaderIter.__del__ of <torch.utils.data.dataloader._DataLoaderIter object at 0x7f9c9ade4978>>\n",
      "Traceback (most recent call last):\n",
      "  File \"/home/przezmek/.local/lib/python3.6/site-packages/torch/utils/data/dataloader.py\", line 397, in __del__\n",
      "    def __del__(self):\n",
      "  File \"/home/przezmek/.local/lib/python3.6/site-packages/torch/utils/data/dataloader.py\", line 227, in handler\n",
      "    _error_if_any_worker_fails()\n",
      "RuntimeError: DataLoader worker (pid 4157) exited unexpectedly with exit code 1. Details are lost due to multiprocessing. Rerunning with num_workers=0 may give better error trace.\n"
     ]
    },
    {
     "ename": "KeyboardInterrupt",
     "evalue": "",
     "output_type": "error",
     "traceback": [
      "\u001b[0;31m---------------------------------------------------------------------------\u001b[0m",
      "\u001b[0;31mKeyboardInterrupt\u001b[0m                         Traceback (most recent call last)",
      "\u001b[0;32m<ipython-input-4-90ad5baf45d7>\u001b[0m in \u001b[0;36m<module>\u001b[0;34m\u001b[0m\n\u001b[0;32m----> 1\u001b[0;31m \u001b[0mtrain\u001b[0m\u001b[0;34m.\u001b[0m\u001b[0mrun\u001b[0m\u001b[0;34m(\u001b[0m\u001b[0;34m)\u001b[0m\u001b[0;34m\u001b[0m\u001b[0m\n\u001b[0m",
      "\u001b[0;32m~/Documents/colnet/src/trainer.py\u001b[0m in \u001b[0;36mrun\u001b[0;34m(self)\u001b[0m\n\u001b[1;32m    204\u001b[0m         \u001b[0;34m\"\"\"Runs both training and validating.\"\"\"\u001b[0m\u001b[0;34m\u001b[0m\u001b[0m\n\u001b[1;32m    205\u001b[0m         \u001b[0;32mfor\u001b[0m \u001b[0mepoch\u001b[0m \u001b[0;32min\u001b[0m \u001b[0mrange\u001b[0m\u001b[0;34m(\u001b[0m\u001b[0mself\u001b[0m\u001b[0;34m.\u001b[0m\u001b[0mstart_epoch\u001b[0m\u001b[0;34m,\u001b[0m \u001b[0mself\u001b[0m\u001b[0;34m.\u001b[0m\u001b[0mEPOCHS\u001b[0m\u001b[0;34m)\u001b[0m\u001b[0;34m:\u001b[0m\u001b[0;34m\u001b[0m\u001b[0m\n\u001b[0;32m--> 206\u001b[0;31m             \u001b[0mself\u001b[0m\u001b[0;34m.\u001b[0m\u001b[0mtrain\u001b[0m\u001b[0;34m(\u001b[0m\u001b[0mepoch\u001b[0m\u001b[0;34m)\u001b[0m\u001b[0;34m\u001b[0m\u001b[0m\n\u001b[0m\u001b[1;32m    207\u001b[0m             \u001b[0mself\u001b[0m\u001b[0;34m.\u001b[0m\u001b[0mvalidate\u001b[0m\u001b[0;34m(\u001b[0m\u001b[0mepoch\u001b[0m\u001b[0;34m)\u001b[0m\u001b[0;34m\u001b[0m\u001b[0m\n\u001b[1;32m    208\u001b[0m             \u001b[0mself\u001b[0m\u001b[0;34m.\u001b[0m\u001b[0msave_checkpoint\u001b[0m\u001b[0;34m(\u001b[0m\u001b[0mepoch\u001b[0m\u001b[0;34m)\u001b[0m\u001b[0;34m\u001b[0m\u001b[0m\n",
      "\u001b[0;32m~/Documents/colnet/src/trainer.py\u001b[0m in \u001b[0;36mtrain\u001b[0;34m(self, epoch)\u001b[0m\n\u001b[1;32m     95\u001b[0m \u001b[0;34m\u001b[0m\u001b[0m\n\u001b[1;32m     96\u001b[0m             \u001b[0mloss\u001b[0m \u001b[0;34m=\u001b[0m \u001b[0mself\u001b[0m\u001b[0;34m.\u001b[0m\u001b[0mmse\u001b[0m\u001b[0;34m(\u001b[0m\u001b[0mab\u001b[0m\u001b[0;34m,\u001b[0m \u001b[0mab_out\u001b[0m\u001b[0;34m)\u001b[0m\u001b[0;34m\u001b[0m\u001b[0m\n\u001b[0;32m---> 97\u001b[0;31m             \u001b[0mloss\u001b[0m\u001b[0;34m.\u001b[0m\u001b[0mbackward\u001b[0m\u001b[0;34m(\u001b[0m\u001b[0;34m)\u001b[0m\u001b[0;34m\u001b[0m\u001b[0m\n\u001b[0m\u001b[1;32m     98\u001b[0m             \u001b[0mself\u001b[0m\u001b[0;34m.\u001b[0m\u001b[0moptimizer\u001b[0m\u001b[0;34m.\u001b[0m\u001b[0mstep\u001b[0m\u001b[0;34m(\u001b[0m\u001b[0;34m)\u001b[0m\u001b[0;34m\u001b[0m\u001b[0m\n\u001b[1;32m     99\u001b[0m \u001b[0;34m\u001b[0m\u001b[0m\n",
      "\u001b[0;32m~/.local/lib/python3.6/site-packages/torch/tensor.py\u001b[0m in \u001b[0;36mbackward\u001b[0;34m(self, gradient, retain_graph, create_graph)\u001b[0m\n\u001b[1;32m     91\u001b[0m                 \u001b[0mproducts\u001b[0m\u001b[0;34m.\u001b[0m \u001b[0mDefaults\u001b[0m \u001b[0mto\u001b[0m\u001b[0;31m \u001b[0m\u001b[0;31m`\u001b[0m\u001b[0;31m`\u001b[0m\u001b[0;32mFalse\u001b[0m\u001b[0;31m`\u001b[0m\u001b[0;31m`\u001b[0m\u001b[0;34m.\u001b[0m\u001b[0;34m\u001b[0m\u001b[0m\n\u001b[1;32m     92\u001b[0m         \"\"\"\n\u001b[0;32m---> 93\u001b[0;31m         \u001b[0mtorch\u001b[0m\u001b[0;34m.\u001b[0m\u001b[0mautograd\u001b[0m\u001b[0;34m.\u001b[0m\u001b[0mbackward\u001b[0m\u001b[0;34m(\u001b[0m\u001b[0mself\u001b[0m\u001b[0;34m,\u001b[0m \u001b[0mgradient\u001b[0m\u001b[0;34m,\u001b[0m \u001b[0mretain_graph\u001b[0m\u001b[0;34m,\u001b[0m \u001b[0mcreate_graph\u001b[0m\u001b[0;34m)\u001b[0m\u001b[0;34m\u001b[0m\u001b[0m\n\u001b[0m\u001b[1;32m     94\u001b[0m \u001b[0;34m\u001b[0m\u001b[0m\n\u001b[1;32m     95\u001b[0m     \u001b[0;32mdef\u001b[0m \u001b[0mregister_hook\u001b[0m\u001b[0;34m(\u001b[0m\u001b[0mself\u001b[0m\u001b[0;34m,\u001b[0m \u001b[0mhook\u001b[0m\u001b[0;34m)\u001b[0m\u001b[0;34m:\u001b[0m\u001b[0;34m\u001b[0m\u001b[0m\n",
      "\u001b[0;32m~/.local/lib/python3.6/site-packages/torch/autograd/__init__.py\u001b[0m in \u001b[0;36mbackward\u001b[0;34m(tensors, grad_tensors, retain_graph, create_graph, grad_variables)\u001b[0m\n\u001b[1;32m     88\u001b[0m     Variable._execution_engine.run_backward(\n\u001b[1;32m     89\u001b[0m         \u001b[0mtensors\u001b[0m\u001b[0;34m,\u001b[0m \u001b[0mgrad_tensors\u001b[0m\u001b[0;34m,\u001b[0m \u001b[0mretain_graph\u001b[0m\u001b[0;34m,\u001b[0m \u001b[0mcreate_graph\u001b[0m\u001b[0;34m,\u001b[0m\u001b[0;34m\u001b[0m\u001b[0m\n\u001b[0;32m---> 90\u001b[0;31m         allow_unreachable=True)  # allow_unreachable flag\n\u001b[0m\u001b[1;32m     91\u001b[0m \u001b[0;34m\u001b[0m\u001b[0m\n\u001b[1;32m     92\u001b[0m \u001b[0;34m\u001b[0m\u001b[0m\n",
      "\u001b[0;31mKeyboardInterrupt\u001b[0m: "
     ]
    }
   ],
   "source": [
    "train.run()"
   ]
  },
  {
   "cell_type": "markdown",
   "metadata": {},
   "source": [
    "In any case training was interrupted:\n",
    "- choose a checkpoint you want to resume, in our case: `../model/colnet181117-12-13-26-0.pt`\n",
    "- add `model_checkpoint: ../model/colnet181117-12-13-26-0.pt` to yaml file, so it looks like:\n",
    "\n",
    "```yaml\n",
    "---\n",
    "epochs: 5\n",
    "batch_size: 8\n",
    "net_size: 16\n",
    "img_dir_train: ../data/food41-120-train/\n",
    "img_dir_val: ../data/food41-120-test/\n",
    "img_dir_test: ../data/food41-120-test/`\n",
    "model_checkpoint: ../model/colnet181117-12-13-26-0.pt\n",
    "```\n",
    "- run the following:"
   ]
  },
  {
   "cell_type": "code",
   "execution_count": 5,
   "metadata": {},
   "outputs": [
    {
     "name": "stdout",
     "output_type": "stream",
     "text": [
      "Resuming training of: ../model/colnet181117-12-13-26-0.pt\n"
     ]
    }
   ],
   "source": [
    "train = load_config('../config/config0.yaml')"
   ]
  },
  {
   "cell_type": "code",
   "execution_count": 6,
   "metadata": {},
   "outputs": [
    {
     "name": "stdout",
     "output_type": "stream",
     "text": [
      "Epoch 2 / 5\n",
      "[1 / 13] batch loss: 10923.587\n",
      "[2 / 13] batch loss: 7884.576\n",
      "[3 / 13] batch loss: 6809.994\n",
      "[4 / 13] batch loss: 10475.569\n",
      "[5 / 13] batch loss: 7339.261\n",
      "[6 / 13] batch loss: 8683.360\n",
      "[7 / 13] batch loss: 10024.507\n",
      "[8 / 13] batch loss: 8044.392\n",
      "[9 / 13] batch loss: 10277.456\n",
      "[10 / 13] batch loss: 9323.024\n",
      "[11 / 13] batch loss: 8160.094\n",
      "[12 / 13] batch loss: 9242.620\n",
      "[13 / 13] batch loss: 6449.145\n",
      "\n",
      "Validating...\n",
      "[1 / 3] dev batch loss: 7794.4384765625\n",
      "[2 / 3] dev batch loss: 7721.38818359375\n",
      "[3 / 3] dev batch loss: 3791.343505859375\n",
      "sum of dev losses 19307.169921875\n",
      "mean of dev losses 6435.723307291667\n",
      "\n",
      "saved model to ../model/colnet181117-12-14-24-1.pt\n",
      "Epoch 3 / 5\n",
      "[1 / 13] batch loss: 12626.694\n",
      "[2 / 13] batch loss: 9233.958\n",
      "[3 / 13] batch loss: 8270.184\n",
      "[4 / 13] batch loss: 11970.849\n",
      "[5 / 13] batch loss: 7387.845\n",
      "[6 / 13] batch loss: 9866.120\n",
      "[7 / 13] batch loss: 9441.296\n",
      "[8 / 13] batch loss: 5077.825\n",
      "[9 / 13] batch loss: 8323.755\n",
      "[10 / 13] batch loss: 8855.503\n",
      "[11 / 13] batch loss: 9238.039\n",
      "[12 / 13] batch loss: 10315.150\n",
      "[13 / 13] batch loss: 2563.120\n",
      "\n",
      "Validating...\n",
      "[1 / 3] dev batch loss: 7762.03173828125\n",
      "[2 / 3] dev batch loss: 7693.3623046875\n",
      "[3 / 3] dev batch loss: 3769.990478515625\n",
      "sum of dev losses 19225.384765625\n",
      "mean of dev losses 6408.461588541667\n",
      "\n",
      "saved model to ../model/colnet181117-12-14-27-2.pt\n",
      "Epoch 4 / 5\n",
      "[1 / 13] batch loss: 6998.564\n",
      "[2 / 13] batch loss: 9078.660\n",
      "[3 / 13] batch loss: 10184.896\n",
      "[4 / 13] batch loss: 8729.986\n",
      "[5 / 13] batch loss: 8166.133\n",
      "[6 / 13] batch loss: 8202.942\n",
      "[7 / 13] batch loss: 9086.694\n",
      "[8 / 13] batch loss: 8064.973\n",
      "[9 / 13] batch loss: 11345.426\n",
      "[10 / 13] batch loss: 7312.071\n",
      "[11 / 13] batch loss: 7408.428\n",
      "[12 / 13] batch loss: 11950.833\n",
      "[13 / 13] batch loss: 6151.716\n",
      "\n",
      "Validating...\n",
      "[1 / 3] dev batch loss: 7729.63427734375\n",
      "[2 / 3] dev batch loss: 7665.48046875\n",
      "[3 / 3] dev batch loss: 3748.537353515625\n",
      "sum of dev losses 19143.65234375\n",
      "mean of dev losses 6381.217447916667\n",
      "\n",
      "saved model to ../model/colnet181117-12-14-30-3.pt\n",
      "Epoch 5 / 5\n",
      "[1 / 13] batch loss: 12586.211\n",
      "[2 / 13] batch loss: 11164.026\n",
      "[3 / 13] batch loss: 7161.389\n",
      "[4 / 13] batch loss: 8523.932\n",
      "[5 / 13] batch loss: 9321.684\n",
      "[6 / 13] batch loss: 5413.974\n",
      "[7 / 13] batch loss: 8077.400\n",
      "[8 / 13] batch loss: 7475.612\n",
      "[9 / 13] batch loss: 7919.819\n",
      "[10 / 13] batch loss: 9093.764\n",
      "[11 / 13] batch loss: 8429.491\n",
      "[12 / 13] batch loss: 11131.917\n",
      "[13 / 13] batch loss: 5824.713\n",
      "\n",
      "Validating...\n",
      "[1 / 3] dev batch loss: 7687.60986328125\n",
      "[2 / 3] dev batch loss: 7629.18701171875\n",
      "[3 / 3] dev batch loss: 3715.019287109375\n",
      "sum of dev losses 19031.81640625\n",
      "mean of dev losses 6343.938802083333\n",
      "\n",
      "saved model to ../model/colnet181117-12-14-32-4.pt\n",
      "Finished Training.\n"
     ]
    }
   ],
   "source": [
    "train.run()"
   ]
  },
  {
   "cell_type": "markdown",
   "metadata": {},
   "source": [
    "Run testing"
   ]
  },
  {
   "cell_type": "code",
   "execution_count": 7,
   "metadata": {},
   "outputs": [
    {
     "name": "stdout",
     "output_type": "stream",
     "text": [
      "Make sure you're using up to date model!!!\n",
      "Colorizing ../data/food41-120-test/ using ../model/colnet181117-12-14-32-4.pt\n",
      "\n",
      "Resuming training of: ../model/colnet181117-12-14-32-4.pt\n",
      "Processing batch 1 / 3\n",
      "processing: test969461.jpg\n",
      "processing: test1426781.jpg\n",
      "processing: test125056.jpg\n",
      "processing: test189780.jpg\n",
      "processing: test147628.jpg\n",
      "processing: test338636.jpg\n"
     ]
    },
    {
     "name": "stderr",
     "output_type": "stream",
     "text": [
      "/home/przezmek/.local/lib/python3.6/site-packages/skimage/util/dtype.py:141: UserWarning: Possible precision loss when converting from float64 to uint8\n",
      "  .format(dtypeobj_in, dtypeobj_out))\n"
     ]
    },
    {
     "name": "stdout",
     "output_type": "stream",
     "text": [
      "processing: test2598673.jpg\n",
      "processing: test430904.jpg\n",
      "Processing batch 2 / 3\n",
      "processing: test34632.jpg\n",
      "processing: test1060807.jpg\n",
      "processing: test286055.jpg\n",
      "processing: test557390.jpg\n",
      "processing: test343759.jpg\n",
      "processing: test691390.jpg\n",
      "processing: test80887.jpg\n",
      "processing: test184106.jpg\n",
      "Processing batch 3 / 3\n",
      "processing: test348356.jpg\n",
      "processing: test99604.jpg\n",
      "processing: test887149.jpg\n",
      "processing: test633890.jpg\n",
      "Saved all photos to ../out/\n"
     ]
    }
   ],
   "source": [
    "train.test()"
   ]
  },
  {
   "cell_type": "code",
   "execution_count": null,
   "metadata": {},
   "outputs": [],
   "source": []
  }
 ],
 "metadata": {
  "kernelspec": {
   "display_name": "Python 3",
   "language": "python",
   "name": "python3"
  },
  "language_info": {
   "codemirror_mode": {
    "name": "ipython",
    "version": 3
   },
   "file_extension": ".py",
   "mimetype": "text/x-python",
   "name": "python",
   "nbconvert_exporter": "python",
   "pygments_lexer": "ipython3",
   "version": "3.6.6"
  }
 },
 "nbformat": 4,
 "nbformat_minor": 2
}
