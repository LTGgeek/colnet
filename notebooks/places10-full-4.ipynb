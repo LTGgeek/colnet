{
 "cells": [
  {
   "cell_type": "code",
   "execution_count": 1,
   "metadata": {},
   "outputs": [],
   "source": [
    "from loader import load_config\n",
    "import matplotlib.pyplot as plt"
   ]
  },
  {
   "cell_type": "code",
   "execution_count": 2,
   "metadata": {
    "collapsed": true
   },
   "outputs": [],
   "source": [
    "config_file = './config/places10-full2.yaml'"
   ]
  },
  {
   "cell_type": "code",
   "execution_count": 3,
   "metadata": {},
   "outputs": [
    {
     "name": "stdout",
     "output_type": "stream",
     "text": [
      "---\n",
      "epochs: 100\n",
      "batch_size: 32\n",
      "net_divisor: 1\n",
      "learning_rate: 0.001\n",
      "num_workers: 16\n",
      "img_dir_train: ./data/places10/train\n",
      "img_dir_val: ./data/places10/val\n",
      "img_dir_test: ./data/places10/test\n",
      "img_out_dir: ./out/places10-4\n",
      "models_dir: ./model/places10-4"
     ]
    }
   ],
   "source": [
    "%%bash -s \"$config_file\"\n",
    "cat $1"
   ]
  },
  {
   "cell_type": "code",
   "execution_count": 4,
   "metadata": {},
   "outputs": [
    {
     "name": "stdout",
     "output_type": "stream",
     "text": [
      "Using cuda:0\n",
      "\n",
      "Resuming training of: ./model/places10-4/colnet181204-09-36-42-99.pt\n",
      "------------- Training environment info -------------\n",
      "\n",
      "Training starts from epoch: 100\n",
      "Total number of epochs:     100\n",
      "ColNet parameters are devided by: 1\n",
      "Batch size:  32\n",
      "Used devide: cuda:0\n",
      "\n",
      "Current model name:      ./model/places10-4/colnet181204-09-36-42-99.pt\n",
      "Training data directory: ./data/places10/train\n",
      "Validate data directory: ./data/places10/val\n",
      "Testing data directory:  ./data/places10/test\n",
      "Models are saved to:     ./model/places10-4\n",
      "Colorized images are saved to: ./out/places10-4\n",
      "-----------------------------------------------------\n",
      "\n"
     ]
    }
   ],
   "source": [
    "model = './model/places10-4/colnet181204-09-36-42-99.pt'\n",
    "t = load_config(config_file=config_file, model_checkpoint=model)\n",
    "t.info()"
   ]
  },
  {
   "cell_type": "code",
   "execution_count": 5,
   "metadata": {
    "scrolled": true
   },
   "outputs": [
    {
     "data": {
      "image/png": "[encoded data removed]",
      "text/plain": [
       "<matplotlib.figure.Figure at 0x7facb5845e10>"
      ]
     },
     "metadata": {},
     "output_type": "display_data"
    }
   ],
   "source": [
    "plt.plot(t.loss_history['train'], label=\"Train\")\n",
    "plt.plot(t.loss_history['val'], label=\"Validate\")\n",
    "plt.title(\"Losses\")\n",
    "plt.legend()\n",
    "plt.show()"
   ]
  }
 ],
 "metadata": {
  "kernelspec": {
   "display_name": "Python 3",
   "language": "python",
   "name": "python3"
  },
  "language_info": {
   "codemirror_mode": {
    "name": "ipython",
    "version": 3
   },
   "file_extension": ".py",
   "mimetype": "text/x-python",
   "name": "python",
   "nbconvert_exporter": "python",
   "pygments_lexer": "ipython3",
   "version": "3.6.3"
  }
 },
 "nbformat": 4,
 "nbformat_minor": 2
}
